{
 "cells": [
  {
   "cell_type": "markdown",
   "metadata": {},
   "source": [
    "1. `git clone`\n",
    "2. `cd <nama_repo>` dlu ke folder yg di clone\n",
    "3. `git status` --> harusnya file baru di local berwarna merah\n",
    "4. `git add .` --> titik artinya semua file akan di stage mode\n",
    "5. `git status` --> harusnya file baru di local berwarna merah\n",
    "6. `git commit` -m \"final pke bgt\"--> masuk stage mode kasih -m (message) \n",
    "7. `git push`\n",
    "8. `git checkout` --> untuk cek older version di local komputer"
   ]
  }
 ],
 "metadata": {
  "language_info": {
   "name": "python"
  }
 },
 "nbformat": 4,
 "nbformat_minor": 2
}
