{
 "cells": [
  {
   "cell_type": "markdown",
   "metadata": {},
   "source": [
    "# Sesi 6 - Pandas Cleaning"
   ]
  },
  {
   "cell_type": "code",
   "execution_count": 84,
   "metadata": {},
   "outputs": [],
   "source": [
    "import pandas as pd\n",
    "import numpy as np"
   ]
  },
  {
   "cell_type": "markdown",
   "metadata": {},
   "source": [
    "Load dataset"
   ]
  },
  {
   "cell_type": "code",
   "execution_count": 85,
   "metadata": {},
   "outputs": [
    {
     "data": {
      "text/html": [
       "<div>\n",
       "<style scoped>\n",
       "    .dataframe tbody tr th:only-of-type {\n",
       "        vertical-align: middle;\n",
       "    }\n",
       "\n",
       "    .dataframe tbody tr th {\n",
       "        vertical-align: top;\n",
       "    }\n",
       "\n",
       "    .dataframe thead th {\n",
       "        text-align: right;\n",
       "    }\n",
       "</style>\n",
       "<table border=\"1\" class=\"dataframe\">\n",
       "  <thead>\n",
       "    <tr style=\"text-align: right;\">\n",
       "      <th></th>\n",
       "      <th>PID</th>\n",
       "      <th>ST_NUM</th>\n",
       "      <th>ST_NAME</th>\n",
       "      <th>OWN_OCCUPIED</th>\n",
       "      <th>NUM_BEDROOMS</th>\n",
       "      <th>NUM_BATH</th>\n",
       "      <th>SQ_FT</th>\n",
       "    </tr>\n",
       "  </thead>\n",
       "  <tbody>\n",
       "    <tr>\n",
       "      <th>0</th>\n",
       "      <td>100001000.0</td>\n",
       "      <td>104.0</td>\n",
       "      <td>PUTNAM</td>\n",
       "      <td>Y</td>\n",
       "      <td>3</td>\n",
       "      <td>1</td>\n",
       "      <td>1000</td>\n",
       "    </tr>\n",
       "    <tr>\n",
       "      <th>1</th>\n",
       "      <td>100002000.0</td>\n",
       "      <td>197.0</td>\n",
       "      <td>LEXINGTON</td>\n",
       "      <td>N</td>\n",
       "      <td>3</td>\n",
       "      <td>1.5</td>\n",
       "      <td>--</td>\n",
       "    </tr>\n",
       "    <tr>\n",
       "      <th>2</th>\n",
       "      <td>100003000.0</td>\n",
       "      <td>NaN</td>\n",
       "      <td>LEXINGTON</td>\n",
       "      <td>N</td>\n",
       "      <td>NaN</td>\n",
       "      <td>1</td>\n",
       "      <td>850</td>\n",
       "    </tr>\n",
       "    <tr>\n",
       "      <th>3</th>\n",
       "      <td>100004000.0</td>\n",
       "      <td>201.0</td>\n",
       "      <td>BERKELEY</td>\n",
       "      <td>12</td>\n",
       "      <td>1</td>\n",
       "      <td>NaN</td>\n",
       "      <td>700</td>\n",
       "    </tr>\n",
       "    <tr>\n",
       "      <th>4</th>\n",
       "      <td>NaN</td>\n",
       "      <td>203.0</td>\n",
       "      <td>BERKELEY</td>\n",
       "      <td>Y</td>\n",
       "      <td>3</td>\n",
       "      <td>2</td>\n",
       "      <td>1600</td>\n",
       "    </tr>\n",
       "    <tr>\n",
       "      <th>5</th>\n",
       "      <td>100006000.0</td>\n",
       "      <td>207.0</td>\n",
       "      <td>BERKELEY</td>\n",
       "      <td>Y</td>\n",
       "      <td>NaN</td>\n",
       "      <td>1</td>\n",
       "      <td>800</td>\n",
       "    </tr>\n",
       "    <tr>\n",
       "      <th>6</th>\n",
       "      <td>100007000.0</td>\n",
       "      <td>NaN</td>\n",
       "      <td>WASHINGTON</td>\n",
       "      <td>NaN</td>\n",
       "      <td>2</td>\n",
       "      <td>HURLEY</td>\n",
       "      <td>950</td>\n",
       "    </tr>\n",
       "    <tr>\n",
       "      <th>7</th>\n",
       "      <td>100008000.0</td>\n",
       "      <td>213.0</td>\n",
       "      <td>TREMONT</td>\n",
       "      <td>Y</td>\n",
       "      <td>--</td>\n",
       "      <td>1</td>\n",
       "      <td>NaN</td>\n",
       "    </tr>\n",
       "    <tr>\n",
       "      <th>8</th>\n",
       "      <td>100009000.0</td>\n",
       "      <td>215.0</td>\n",
       "      <td>TREMONT</td>\n",
       "      <td>Y</td>\n",
       "      <td>na</td>\n",
       "      <td>2</td>\n",
       "      <td>1800</td>\n",
       "    </tr>\n",
       "  </tbody>\n",
       "</table>\n",
       "</div>"
      ],
      "text/plain": [
       "           PID  ST_NUM     ST_NAME OWN_OCCUPIED NUM_BEDROOMS NUM_BATH SQ_FT\n",
       "0  100001000.0   104.0      PUTNAM            Y            3        1  1000\n",
       "1  100002000.0   197.0   LEXINGTON            N            3      1.5    --\n",
       "2  100003000.0     NaN   LEXINGTON            N          NaN        1   850\n",
       "3  100004000.0   201.0    BERKELEY           12            1      NaN   700\n",
       "4          NaN   203.0    BERKELEY            Y            3        2  1600\n",
       "5  100006000.0   207.0    BERKELEY            Y          NaN        1   800\n",
       "6  100007000.0     NaN  WASHINGTON          NaN            2   HURLEY   950\n",
       "7  100008000.0   213.0     TREMONT            Y           --        1   NaN\n",
       "8  100009000.0   215.0     TREMONT            Y           na        2  1800"
      ]
     },
     "execution_count": 85,
     "metadata": {},
     "output_type": "execute_result"
    }
   ],
   "source": [
    "df_ori = pd.read_csv('https://raw.githubusercontent.com/ardhiraka/PFDS_sources/master/property_data.csv')\n",
    "df = df_ori.copy()\n",
    "df"
   ]
  },
  {
   "cell_type": "code",
   "execution_count": 86,
   "metadata": {},
   "outputs": [
    {
     "data": {
      "text/plain": [
       "2"
      ]
     },
     "execution_count": 86,
     "metadata": {},
     "output_type": "execute_result"
    }
   ],
   "source": [
    "df.ST_NUM.isnull().sum()"
   ]
  },
  {
   "cell_type": "code",
   "execution_count": 87,
   "metadata": {},
   "outputs": [
    {
     "data": {
      "text/plain": [
       "ST_NUM     2\n",
       "ST_NAME    0\n",
       "dtype: int64"
      ]
     },
     "execution_count": 87,
     "metadata": {},
     "output_type": "execute_result"
    }
   ],
   "source": [
    "df[['ST_NUM','ST_NAME']].isnull().sum()"
   ]
  },
  {
   "cell_type": "code",
   "execution_count": 88,
   "metadata": {},
   "outputs": [
    {
     "data": {
      "text/plain": [
       "Index(['PID', 'ST_NUM', 'ST_NAME', 'OWN_OCCUPIED', 'NUM_BEDROOMS', 'NUM_BATH',\n",
       "       'SQ_FT'],\n",
       "      dtype='object')"
      ]
     },
     "execution_count": 88,
     "metadata": {},
     "output_type": "execute_result"
    }
   ],
   "source": [
    "df.columns"
   ]
  },
  {
   "cell_type": "code",
   "execution_count": 89,
   "metadata": {},
   "outputs": [
    {
     "data": {
      "text/plain": [
       "0    False\n",
       "1    False\n",
       "2     True\n",
       "3    False\n",
       "4    False\n",
       "5     True\n",
       "6    False\n",
       "7    False\n",
       "8    False\n",
       "Name: NUM_BEDROOMS, dtype: bool"
      ]
     },
     "execution_count": 89,
     "metadata": {},
     "output_type": "execute_result"
    }
   ],
   "source": [
    "df.NUM_BEDROOMS.isnull()"
   ]
  },
  {
   "cell_type": "markdown",
   "metadata": {},
   "source": [
    "n/a dan NA = dibaca sbg missing value oleh py\n",
    "\n",
    "-- dan na = dibaca sbg string oleh py"
   ]
  },
  {
   "cell_type": "code",
   "execution_count": 90,
   "metadata": {},
   "outputs": [],
   "source": [
    "missing_value = ['--','na']\n",
    "df = pd.read_csv('https://raw.githubusercontent.com/ardhiraka/PFDS_sources/master/property_data.csv',na_values=missing_value)"
   ]
  },
  {
   "cell_type": "code",
   "execution_count": 91,
   "metadata": {},
   "outputs": [
    {
     "data": {
      "text/plain": [
       "nan"
      ]
     },
     "execution_count": 91,
     "metadata": {},
     "output_type": "execute_result"
    }
   ],
   "source": [
    "np.nan"
   ]
  },
  {
   "cell_type": "code",
   "execution_count": 92,
   "metadata": {},
   "outputs": [
    {
     "data": {
      "text/plain": [
       "'12'"
      ]
     },
     "execution_count": 92,
     "metadata": {},
     "output_type": "execute_result"
    }
   ],
   "source": [
    "df.loc[3, 'OWN_OCCUPIED']"
   ]
  },
  {
   "cell_type": "code",
   "execution_count": 93,
   "metadata": {},
   "outputs": [],
   "source": [
    "cnt = 0\n",
    "for i in df.OWN_OCCUPIED:\n",
    "    try:\n",
    "        int(i)\n",
    "        df.loc[cnt, 'OWN_OCCUPIED'] = np.nan\n",
    "    except:\n",
    "        pass\n",
    "    cnt+=1"
   ]
  },
  {
   "cell_type": "code",
   "execution_count": 94,
   "metadata": {},
   "outputs": [
    {
     "data": {
      "text/plain": [
       "0      Y\n",
       "1      N\n",
       "2      N\n",
       "3    NaN\n",
       "4      Y\n",
       "5      Y\n",
       "6    NaN\n",
       "7      Y\n",
       "8      Y\n",
       "Name: OWN_OCCUPIED, dtype: object"
      ]
     },
     "execution_count": 94,
     "metadata": {},
     "output_type": "execute_result"
    }
   ],
   "source": [
    "df.OWN_OCCUPIED"
   ]
  },
  {
   "cell_type": "code",
   "execution_count": 95,
   "metadata": {},
   "outputs": [
    {
     "data": {
      "text/html": [
       "<div>\n",
       "<style scoped>\n",
       "    .dataframe tbody tr th:only-of-type {\n",
       "        vertical-align: middle;\n",
       "    }\n",
       "\n",
       "    .dataframe tbody tr th {\n",
       "        vertical-align: top;\n",
       "    }\n",
       "\n",
       "    .dataframe thead th {\n",
       "        text-align: right;\n",
       "    }\n",
       "</style>\n",
       "<table border=\"1\" class=\"dataframe\">\n",
       "  <thead>\n",
       "    <tr style=\"text-align: right;\">\n",
       "      <th></th>\n",
       "      <th>PID</th>\n",
       "      <th>ST_NUM</th>\n",
       "      <th>ST_NAME</th>\n",
       "      <th>OWN_OCCUPIED</th>\n",
       "      <th>NUM_BEDROOMS</th>\n",
       "      <th>NUM_BATH</th>\n",
       "      <th>SQ_FT</th>\n",
       "    </tr>\n",
       "  </thead>\n",
       "  <tbody>\n",
       "    <tr>\n",
       "      <th>0</th>\n",
       "      <td>100001000.0</td>\n",
       "      <td>104.0</td>\n",
       "      <td>PUTNAM</td>\n",
       "      <td>Y</td>\n",
       "      <td>3.0</td>\n",
       "      <td>1</td>\n",
       "      <td>1000.0</td>\n",
       "    </tr>\n",
       "    <tr>\n",
       "      <th>1</th>\n",
       "      <td>100002000.0</td>\n",
       "      <td>197.0</td>\n",
       "      <td>LEXINGTON</td>\n",
       "      <td>N</td>\n",
       "      <td>3.0</td>\n",
       "      <td>1.5</td>\n",
       "      <td>NaN</td>\n",
       "    </tr>\n",
       "    <tr>\n",
       "      <th>2</th>\n",
       "      <td>100003000.0</td>\n",
       "      <td>NaN</td>\n",
       "      <td>LEXINGTON</td>\n",
       "      <td>N</td>\n",
       "      <td>NaN</td>\n",
       "      <td>1</td>\n",
       "      <td>850.0</td>\n",
       "    </tr>\n",
       "    <tr>\n",
       "      <th>3</th>\n",
       "      <td>100004000.0</td>\n",
       "      <td>201.0</td>\n",
       "      <td>BERKELEY</td>\n",
       "      <td>NaN</td>\n",
       "      <td>1.0</td>\n",
       "      <td>NaN</td>\n",
       "      <td>700.0</td>\n",
       "    </tr>\n",
       "    <tr>\n",
       "      <th>4</th>\n",
       "      <td>NaN</td>\n",
       "      <td>203.0</td>\n",
       "      <td>BERKELEY</td>\n",
       "      <td>Y</td>\n",
       "      <td>3.0</td>\n",
       "      <td>2</td>\n",
       "      <td>1600.0</td>\n",
       "    </tr>\n",
       "    <tr>\n",
       "      <th>5</th>\n",
       "      <td>100006000.0</td>\n",
       "      <td>207.0</td>\n",
       "      <td>BERKELEY</td>\n",
       "      <td>Y</td>\n",
       "      <td>NaN</td>\n",
       "      <td>1</td>\n",
       "      <td>800.0</td>\n",
       "    </tr>\n",
       "    <tr>\n",
       "      <th>6</th>\n",
       "      <td>100007000.0</td>\n",
       "      <td>NaN</td>\n",
       "      <td>WASHINGTON</td>\n",
       "      <td>NaN</td>\n",
       "      <td>2.0</td>\n",
       "      <td>HURLEY</td>\n",
       "      <td>950.0</td>\n",
       "    </tr>\n",
       "    <tr>\n",
       "      <th>7</th>\n",
       "      <td>100008000.0</td>\n",
       "      <td>213.0</td>\n",
       "      <td>TREMONT</td>\n",
       "      <td>Y</td>\n",
       "      <td>NaN</td>\n",
       "      <td>1</td>\n",
       "      <td>NaN</td>\n",
       "    </tr>\n",
       "    <tr>\n",
       "      <th>8</th>\n",
       "      <td>100009000.0</td>\n",
       "      <td>215.0</td>\n",
       "      <td>TREMONT</td>\n",
       "      <td>Y</td>\n",
       "      <td>NaN</td>\n",
       "      <td>2</td>\n",
       "      <td>1800.0</td>\n",
       "    </tr>\n",
       "  </tbody>\n",
       "</table>\n",
       "</div>"
      ],
      "text/plain": [
       "           PID  ST_NUM     ST_NAME OWN_OCCUPIED  NUM_BEDROOMS NUM_BATH   SQ_FT\n",
       "0  100001000.0   104.0      PUTNAM            Y           3.0        1  1000.0\n",
       "1  100002000.0   197.0   LEXINGTON            N           3.0      1.5     NaN\n",
       "2  100003000.0     NaN   LEXINGTON            N           NaN        1   850.0\n",
       "3  100004000.0   201.0    BERKELEY          NaN           1.0      NaN   700.0\n",
       "4          NaN   203.0    BERKELEY            Y           3.0        2  1600.0\n",
       "5  100006000.0   207.0    BERKELEY            Y           NaN        1   800.0\n",
       "6  100007000.0     NaN  WASHINGTON          NaN           2.0   HURLEY   950.0\n",
       "7  100008000.0   213.0     TREMONT            Y           NaN        1     NaN\n",
       "8  100009000.0   215.0     TREMONT            Y           NaN        2  1800.0"
      ]
     },
     "execution_count": 95,
     "metadata": {},
     "output_type": "execute_result"
    }
   ],
   "source": [
    "df"
   ]
  },
  {
   "cell_type": "code",
   "execution_count": 96,
   "metadata": {},
   "outputs": [
    {
     "data": {
      "text/plain": [
       "PID             1\n",
       "ST_NUM          2\n",
       "ST_NAME         0\n",
       "OWN_OCCUPIED    2\n",
       "NUM_BEDROOMS    4\n",
       "NUM_BATH        1\n",
       "SQ_FT           2\n",
       "dtype: int64"
      ]
     },
     "execution_count": 96,
     "metadata": {},
     "output_type": "execute_result"
    }
   ],
   "source": [
    "df.isnull().sum()"
   ]
  },
  {
   "cell_type": "code",
   "execution_count": 97,
   "metadata": {},
   "outputs": [
    {
     "data": {
      "text/plain": [
       "True"
      ]
     },
     "execution_count": 97,
     "metadata": {},
     "output_type": "execute_result"
    }
   ],
   "source": [
    "df.isnull().values.any()"
   ]
  },
  {
   "cell_type": "markdown",
   "metadata": {},
   "source": [
    "artinya betul di data kita ada mis val"
   ]
  },
  {
   "cell_type": "code",
   "execution_count": 98,
   "metadata": {},
   "outputs": [
    {
     "data": {
      "text/plain": [
       "12"
      ]
     },
     "execution_count": 98,
     "metadata": {},
     "output_type": "execute_result"
    }
   ],
   "source": [
    "df.isnull().sum().sum()"
   ]
  },
  {
   "cell_type": "markdown",
   "metadata": {},
   "source": [
    "jumlah mis val setiap colum adalah 12 value"
   ]
  },
  {
   "cell_type": "markdown",
   "metadata": {},
   "source": [
    "Untuk imputasi missing_value, harus dicek dulu distribusi datanya. Skew / Normal distribusi.\n",
    "\n",
    "Jika skew nya :   \n",
    "__-0.5 s/d 0.5__ maka bisa dibilang ***normal distribution***   \n",
    "__-0.5 s/d - 1__ OR __0.5 s/d 1__ maka ***skew distribution***  \n",
    "__< -1__ OR __> 1__ maka ***extreme skew distribution***  \n",
    "\n",
    "Jika normal distribution --> metode imputasinya `.mean()`  \n",
    "Jika skew distribution --> metode imputasinya `.median()`"
   ]
  },
  {
   "cell_type": "code",
   "execution_count": 99,
   "metadata": {},
   "outputs": [
    {
     "data": {
      "text/plain": [
       "-2.497141895219325"
      ]
     },
     "execution_count": 99,
     "metadata": {},
     "output_type": "execute_result"
    }
   ],
   "source": [
    "df.ST_NUM.skew()"
   ]
  },
  {
   "cell_type": "markdown",
   "metadata": {},
   "source": [
    "karena kolom ST_NUM adalah skew extreme, maka imputasi menggunakan median"
   ]
  },
  {
   "cell_type": "code",
   "execution_count": 100,
   "metadata": {},
   "outputs": [
    {
     "data": {
      "text/plain": [
       "0    104.0\n",
       "1    197.0\n",
       "2    203.0\n",
       "3    201.0\n",
       "4    203.0\n",
       "5    207.0\n",
       "6    203.0\n",
       "7    213.0\n",
       "8    215.0\n",
       "Name: ST_NUM, dtype: float64"
      ]
     },
     "execution_count": 100,
     "metadata": {},
     "output_type": "execute_result"
    }
   ],
   "source": [
    "df.ST_NUM.fillna(df.ST_NUM.median()) # ini hanya munculin aja kolom st_num dengan misval di imputasi dgn median value tanpa merubah data asli"
   ]
  },
  {
   "cell_type": "markdown",
   "metadata": {},
   "source": [
    "buktinya ketika dipanggil lagi `df.ST_NUM` masih ada mis val."
   ]
  },
  {
   "cell_type": "code",
   "execution_count": 101,
   "metadata": {},
   "outputs": [
    {
     "data": {
      "text/plain": [
       "0    104.0\n",
       "1    197.0\n",
       "2      NaN\n",
       "3    201.0\n",
       "4    203.0\n",
       "5    207.0\n",
       "6      NaN\n",
       "7    213.0\n",
       "8    215.0\n",
       "Name: ST_NUM, dtype: float64"
      ]
     },
     "execution_count": 101,
     "metadata": {},
     "output_type": "execute_result"
    }
   ],
   "source": [
    "df.ST_NUM"
   ]
  },
  {
   "cell_type": "markdown",
   "metadata": {},
   "source": [
    "Jadi harus pakai inplace = True, atau ditimpa."
   ]
  },
  {
   "cell_type": "code",
   "execution_count": 102,
   "metadata": {},
   "outputs": [],
   "source": [
    "df.ST_NUM.fillna(df.ST_NUM.median(), inplace=True) # cara 1\n",
    "# df.ST_NUM = df.ST_NUM.fillna(df.ST_NUM.median()) # cara 2"
   ]
  },
  {
   "cell_type": "code",
   "execution_count": 103,
   "metadata": {},
   "outputs": [
    {
     "data": {
      "text/plain": [
       "0    104.0\n",
       "1    197.0\n",
       "2    203.0\n",
       "3    201.0\n",
       "4    203.0\n",
       "5    207.0\n",
       "6    203.0\n",
       "7    213.0\n",
       "8    215.0\n",
       "Name: ST_NUM, dtype: float64"
      ]
     },
     "execution_count": 103,
     "metadata": {},
     "output_type": "execute_result"
    }
   ],
   "source": [
    "df.ST_NUM"
   ]
  },
  {
   "cell_type": "code",
   "execution_count": 104,
   "metadata": {},
   "outputs": [
    {
     "data": {
      "text/plain": [
       "203.0"
      ]
     },
     "execution_count": 104,
     "metadata": {},
     "output_type": "execute_result"
    }
   ],
   "source": [
    "df.iloc[2,1]"
   ]
  },
  {
   "cell_type": "code",
   "execution_count": 105,
   "metadata": {},
   "outputs": [
    {
     "data": {
      "text/html": [
       "<div>\n",
       "<style scoped>\n",
       "    .dataframe tbody tr th:only-of-type {\n",
       "        vertical-align: middle;\n",
       "    }\n",
       "\n",
       "    .dataframe tbody tr th {\n",
       "        vertical-align: top;\n",
       "    }\n",
       "\n",
       "    .dataframe thead th {\n",
       "        text-align: right;\n",
       "    }\n",
       "</style>\n",
       "<table border=\"1\" class=\"dataframe\">\n",
       "  <thead>\n",
       "    <tr style=\"text-align: right;\">\n",
       "      <th></th>\n",
       "      <th>Unnamed: 0</th>\n",
       "      <th>Total</th>\n",
       "      <th>Under 16</th>\n",
       "      <th>16-24</th>\n",
       "      <th>25-34</th>\n",
       "      <th>35-44</th>\n",
       "      <th>45-54</th>\n",
       "      <th>55-64</th>\n",
       "      <th>65-74</th>\n",
       "      <th>75 and over</th>\n",
       "    </tr>\n",
       "  </thead>\n",
       "  <tbody>\n",
       "    <tr>\n",
       "      <th>0</th>\n",
       "      <td>NaN</td>\n",
       "      <td>NaN</td>\n",
       "      <td>NaN</td>\n",
       "      <td>NaN</td>\n",
       "      <td>NaN</td>\n",
       "      <td>NaN</td>\n",
       "      <td>NaN</td>\n",
       "      <td>NaN</td>\n",
       "      <td>NaN</td>\n",
       "      <td>NaN</td>\n",
       "    </tr>\n",
       "    <tr>\n",
       "      <th>1</th>\n",
       "      <td>2002/03</td>\n",
       "      <td>1275.0</td>\n",
       "      <td>400.0</td>\n",
       "      <td>65.0</td>\n",
       "      <td>136.0</td>\n",
       "      <td>289.0</td>\n",
       "      <td>216.0</td>\n",
       "      <td>94.0</td>\n",
       "      <td>52.0</td>\n",
       "      <td>23.0</td>\n",
       "    </tr>\n",
       "    <tr>\n",
       "      <th>2</th>\n",
       "      <td>2003/04</td>\n",
       "      <td>1711.0</td>\n",
       "      <td>579.0</td>\n",
       "      <td>67.0</td>\n",
       "      <td>174.0</td>\n",
       "      <td>391.0</td>\n",
       "      <td>273.0</td>\n",
       "      <td>151.0</td>\n",
       "      <td>52.0</td>\n",
       "      <td>24.0</td>\n",
       "    </tr>\n",
       "    <tr>\n",
       "      <th>3</th>\n",
       "      <td>2004/05</td>\n",
       "      <td>2035.0</td>\n",
       "      <td>547.0</td>\n",
       "      <td>107.0</td>\n",
       "      <td>287.0</td>\n",
       "      <td>487.0</td>\n",
       "      <td>364.0</td>\n",
       "      <td>174.0</td>\n",
       "      <td>36.0</td>\n",
       "      <td>32.0</td>\n",
       "    </tr>\n",
       "    <tr>\n",
       "      <th>4</th>\n",
       "      <td>2005/06</td>\n",
       "      <td>2564.0</td>\n",
       "      <td>583.0</td>\n",
       "      <td>96.0</td>\n",
       "      <td>341.0</td>\n",
       "      <td>637.0</td>\n",
       "      <td>554.0</td>\n",
       "      <td>258.0</td>\n",
       "      <td>72.0</td>\n",
       "      <td>20.0</td>\n",
       "    </tr>\n",
       "    <tr>\n",
       "      <th>5</th>\n",
       "      <td>2006/07</td>\n",
       "      <td>3862.0</td>\n",
       "      <td>656.0</td>\n",
       "      <td>184.0</td>\n",
       "      <td>461.0</td>\n",
       "      <td>1069.0</td>\n",
       "      <td>872.0</td>\n",
       "      <td>459.0</td>\n",
       "      <td>118.0</td>\n",
       "      <td>43.0</td>\n",
       "    </tr>\n",
       "    <tr>\n",
       "      <th>6</th>\n",
       "      <td>2007/08</td>\n",
       "      <td>5018.0</td>\n",
       "      <td>747.0</td>\n",
       "      <td>228.0</td>\n",
       "      <td>564.0</td>\n",
       "      <td>1469.0</td>\n",
       "      <td>1198.0</td>\n",
       "      <td>598.0</td>\n",
       "      <td>157.0</td>\n",
       "      <td>53.0</td>\n",
       "    </tr>\n",
       "    <tr>\n",
       "      <th>7</th>\n",
       "      <td>2008/09</td>\n",
       "      <td>7988.0</td>\n",
       "      <td>775.0</td>\n",
       "      <td>322.0</td>\n",
       "      <td>1013.0</td>\n",
       "      <td>2359.0</td>\n",
       "      <td>2133.0</td>\n",
       "      <td>1099.0</td>\n",
       "      <td>221.0</td>\n",
       "      <td>63.0</td>\n",
       "    </tr>\n",
       "    <tr>\n",
       "      <th>8</th>\n",
       "      <td>2009/10</td>\n",
       "      <td>10571.0</td>\n",
       "      <td>632.0</td>\n",
       "      <td>361.0</td>\n",
       "      <td>1348.0</td>\n",
       "      <td>3132.0</td>\n",
       "      <td>3076.0</td>\n",
       "      <td>1555.0</td>\n",
       "      <td>378.0</td>\n",
       "      <td>87.0</td>\n",
       "    </tr>\n",
       "    <tr>\n",
       "      <th>9</th>\n",
       "      <td>2010/11</td>\n",
       "      <td>11574.0</td>\n",
       "      <td>525.0</td>\n",
       "      <td>375.0</td>\n",
       "      <td>1425.0</td>\n",
       "      <td>3277.0</td>\n",
       "      <td>3573.0</td>\n",
       "      <td>1820.0</td>\n",
       "      <td>456.0</td>\n",
       "      <td>115.0</td>\n",
       "    </tr>\n",
       "    <tr>\n",
       "      <th>10</th>\n",
       "      <td>2011/12</td>\n",
       "      <td>11736.0</td>\n",
       "      <td>495.0</td>\n",
       "      <td>391.0</td>\n",
       "      <td>1484.0</td>\n",
       "      <td>3104.0</td>\n",
       "      <td>3581.0</td>\n",
       "      <td>2119.0</td>\n",
       "      <td>468.0</td>\n",
       "      <td>94.0</td>\n",
       "    </tr>\n",
       "    <tr>\n",
       "      <th>11</th>\n",
       "      <td>2012/13</td>\n",
       "      <td>10957.0</td>\n",
       "      <td>556.0</td>\n",
       "      <td>356.0</td>\n",
       "      <td>1437.0</td>\n",
       "      <td>2744.0</td>\n",
       "      <td>3305.0</td>\n",
       "      <td>1965.0</td>\n",
       "      <td>495.0</td>\n",
       "      <td>99.0</td>\n",
       "    </tr>\n",
       "  </tbody>\n",
       "</table>\n",
       "</div>"
      ],
      "text/plain": [
       "   Unnamed: 0    Total  Under 16  16-24   25-34   35-44   45-54   55-64  \\\n",
       "0         NaN      NaN       NaN    NaN     NaN     NaN     NaN     NaN   \n",
       "1     2002/03   1275.0     400.0   65.0   136.0   289.0   216.0    94.0   \n",
       "2     2003/04   1711.0     579.0   67.0   174.0   391.0   273.0   151.0   \n",
       "3     2004/05   2035.0     547.0  107.0   287.0   487.0   364.0   174.0   \n",
       "4     2005/06   2564.0     583.0   96.0   341.0   637.0   554.0   258.0   \n",
       "5     2006/07   3862.0     656.0  184.0   461.0  1069.0   872.0   459.0   \n",
       "6     2007/08   5018.0     747.0  228.0   564.0  1469.0  1198.0   598.0   \n",
       "7     2008/09   7988.0     775.0  322.0  1013.0  2359.0  2133.0  1099.0   \n",
       "8     2009/10  10571.0     632.0  361.0  1348.0  3132.0  3076.0  1555.0   \n",
       "9     2010/11  11574.0     525.0  375.0  1425.0  3277.0  3573.0  1820.0   \n",
       "10    2011/12  11736.0     495.0  391.0  1484.0  3104.0  3581.0  2119.0   \n",
       "11    2012/13  10957.0     556.0  356.0  1437.0  2744.0  3305.0  1965.0   \n",
       "\n",
       "    65-74  75 and over  \n",
       "0     NaN          NaN  \n",
       "1    52.0         23.0  \n",
       "2    52.0         24.0  \n",
       "3    36.0         32.0  \n",
       "4    72.0         20.0  \n",
       "5   118.0         43.0  \n",
       "6   157.0         53.0  \n",
       "7   221.0         63.0  \n",
       "8   378.0         87.0  \n",
       "9   456.0        115.0  \n",
       "10  468.0         94.0  \n",
       "11  495.0         99.0  "
      ]
     },
     "execution_count": 105,
     "metadata": {},
     "output_type": "execute_result"
    }
   ],
   "source": [
    "data_obes = pd.read_excel('obes.xls',sheet_name='7.2', skiprows=4, skipfooter=14)\n",
    "data_obes"
   ]
  },
  {
   "cell_type": "code",
   "execution_count": 106,
   "metadata": {},
   "outputs": [],
   "source": [
    "data_obes.rename(columns = {'Unnamed: 0' : 'Year'},inplace=True)"
   ]
  },
  {
   "cell_type": "code",
   "execution_count": 107,
   "metadata": {},
   "outputs": [
    {
     "data": {
      "text/plain": [
       "Index(['Year', 'Total', 'Under 16', '16-24', '25-34', '35-44', '45-54',\n",
       "       '55-64', '65-74', '75 and over'],\n",
       "      dtype='object')"
      ]
     },
     "execution_count": 107,
     "metadata": {},
     "output_type": "execute_result"
    }
   ],
   "source": [
    "data_obes.columns"
   ]
  },
  {
   "cell_type": "code",
   "execution_count": 108,
   "metadata": {},
   "outputs": [],
   "source": [
    "# make year columne become index\n",
    "data_obes.set_index('Year', inplace=True)"
   ]
  },
  {
   "cell_type": "code",
   "execution_count": 109,
   "metadata": {},
   "outputs": [
    {
     "data": {
      "text/html": [
       "<div>\n",
       "<style scoped>\n",
       "    .dataframe tbody tr th:only-of-type {\n",
       "        vertical-align: middle;\n",
       "    }\n",
       "\n",
       "    .dataframe tbody tr th {\n",
       "        vertical-align: top;\n",
       "    }\n",
       "\n",
       "    .dataframe thead th {\n",
       "        text-align: right;\n",
       "    }\n",
       "</style>\n",
       "<table border=\"1\" class=\"dataframe\">\n",
       "  <thead>\n",
       "    <tr style=\"text-align: right;\">\n",
       "      <th></th>\n",
       "      <th>Total</th>\n",
       "      <th>Under 16</th>\n",
       "      <th>16-24</th>\n",
       "      <th>25-34</th>\n",
       "      <th>35-44</th>\n",
       "      <th>45-54</th>\n",
       "      <th>55-64</th>\n",
       "      <th>65-74</th>\n",
       "      <th>75 and over</th>\n",
       "    </tr>\n",
       "    <tr>\n",
       "      <th>Year</th>\n",
       "      <th></th>\n",
       "      <th></th>\n",
       "      <th></th>\n",
       "      <th></th>\n",
       "      <th></th>\n",
       "      <th></th>\n",
       "      <th></th>\n",
       "      <th></th>\n",
       "      <th></th>\n",
       "    </tr>\n",
       "  </thead>\n",
       "  <tbody>\n",
       "    <tr>\n",
       "      <th>NaN</th>\n",
       "      <td>NaN</td>\n",
       "      <td>NaN</td>\n",
       "      <td>NaN</td>\n",
       "      <td>NaN</td>\n",
       "      <td>NaN</td>\n",
       "      <td>NaN</td>\n",
       "      <td>NaN</td>\n",
       "      <td>NaN</td>\n",
       "      <td>NaN</td>\n",
       "    </tr>\n",
       "    <tr>\n",
       "      <th>2002/03</th>\n",
       "      <td>1275.0</td>\n",
       "      <td>400.0</td>\n",
       "      <td>65.0</td>\n",
       "      <td>136.0</td>\n",
       "      <td>289.0</td>\n",
       "      <td>216.0</td>\n",
       "      <td>94.0</td>\n",
       "      <td>52.0</td>\n",
       "      <td>23.0</td>\n",
       "    </tr>\n",
       "    <tr>\n",
       "      <th>2003/04</th>\n",
       "      <td>1711.0</td>\n",
       "      <td>579.0</td>\n",
       "      <td>67.0</td>\n",
       "      <td>174.0</td>\n",
       "      <td>391.0</td>\n",
       "      <td>273.0</td>\n",
       "      <td>151.0</td>\n",
       "      <td>52.0</td>\n",
       "      <td>24.0</td>\n",
       "    </tr>\n",
       "    <tr>\n",
       "      <th>2004/05</th>\n",
       "      <td>2035.0</td>\n",
       "      <td>547.0</td>\n",
       "      <td>107.0</td>\n",
       "      <td>287.0</td>\n",
       "      <td>487.0</td>\n",
       "      <td>364.0</td>\n",
       "      <td>174.0</td>\n",
       "      <td>36.0</td>\n",
       "      <td>32.0</td>\n",
       "    </tr>\n",
       "    <tr>\n",
       "      <th>2005/06</th>\n",
       "      <td>2564.0</td>\n",
       "      <td>583.0</td>\n",
       "      <td>96.0</td>\n",
       "      <td>341.0</td>\n",
       "      <td>637.0</td>\n",
       "      <td>554.0</td>\n",
       "      <td>258.0</td>\n",
       "      <td>72.0</td>\n",
       "      <td>20.0</td>\n",
       "    </tr>\n",
       "  </tbody>\n",
       "</table>\n",
       "</div>"
      ],
      "text/plain": [
       "          Total  Under 16  16-24  25-34  35-44  45-54  55-64  65-74  \\\n",
       "Year                                                                  \n",
       "NaN         NaN       NaN    NaN    NaN    NaN    NaN    NaN    NaN   \n",
       "2002/03  1275.0     400.0   65.0  136.0  289.0  216.0   94.0   52.0   \n",
       "2003/04  1711.0     579.0   67.0  174.0  391.0  273.0  151.0   52.0   \n",
       "2004/05  2035.0     547.0  107.0  287.0  487.0  364.0  174.0   36.0   \n",
       "2005/06  2564.0     583.0   96.0  341.0  637.0  554.0  258.0   72.0   \n",
       "\n",
       "         75 and over  \n",
       "Year                  \n",
       "NaN              NaN  \n",
       "2002/03         23.0  \n",
       "2003/04         24.0  \n",
       "2004/05         32.0  \n",
       "2005/06         20.0  "
      ]
     },
     "execution_count": 109,
     "metadata": {},
     "output_type": "execute_result"
    }
   ],
   "source": [
    "data_obes.head()"
   ]
  },
  {
   "cell_type": "code",
   "execution_count": 111,
   "metadata": {},
   "outputs": [],
   "source": [
    "data_obes.dropna(inplace=True)"
   ]
  },
  {
   "cell_type": "code",
   "execution_count": 114,
   "metadata": {},
   "outputs": [
    {
     "data": {
      "text/plain": [
       "Index(['Total', 'Under 16', '16-24', '25-34', '35-44', '45-54', '55-64',\n",
       "       '65-74', '75 and over'],\n",
       "      dtype='object')"
      ]
     },
     "execution_count": 114,
     "metadata": {},
     "output_type": "execute_result"
    }
   ],
   "source": [
    "data_obes.columns"
   ]
  },
  {
   "cell_type": "code",
   "execution_count": 119,
   "metadata": {},
   "outputs": [
    {
     "data": {
      "text/plain": [
       "<Axes: xlabel='Year'>"
      ]
     },
     "execution_count": 119,
     "metadata": {},
     "output_type": "execute_result"
    },
    {
     "data": {
      "image/png": "[encoded data removed]",
      "text/plain": [
       "<Figure size 640x480 with 1 Axes>"
      ]
     },
     "metadata": {},
     "output_type": "display_data"
    }
   ],
   "source": [
    "# contoh\n",
    "data_obes.loc[data_obes.Total > 2000,['Under 16','16-24']].plot(kind='bar')"
   ]
  },
  {
   "cell_type": "code",
   "execution_count": null,
   "metadata": {},
   "outputs": [],
   "source": [
    "\n",
    "data_obes.to_csv('data_obes_cleanned.xls',index=False) # index nya python mau include? yes = True, no = False"
   ]
  }
 ],
 "metadata": {
  "kernelspec": {
   "display_name": "base",
   "language": "python",
   "name": "python3"
  },
  "language_info": {
   "codemirror_mode": {
    "name": "ipython",
    "version": 3
   },
   "file_extension": ".py",
   "mimetype": "text/x-python",
   "name": "python",
   "nbconvert_exporter": "python",
   "pygments_lexer": "ipython3",
   "version": "3.10.9"
  }
 },
 "nbformat": 4,
 "nbformat_minor": 2
}
