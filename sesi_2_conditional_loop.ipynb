{
 "cells": [
  {
   "cell_type": "markdown",
   "metadata": {},
   "source": [
    "# Condition & Looping"
   ]
  },
  {
   "cell_type": "markdown",
   "metadata": {},
   "source": [
    "## Conditional"
   ]
  },
  {
   "cell_type": "markdown",
   "metadata": {},
   "source": [
    "### perbedaan if elif dan else"
   ]
  },
  {
   "cell_type": "code",
   "execution_count": 4,
   "metadata": {},
   "outputs": [
    {
     "name": "stdout",
     "output_type": "stream",
     "text": [
      "yes\n"
     ]
    }
   ],
   "source": [
    "x = 1\n",
    "y = 5\n",
    "\n",
    "if x < y :\n",
    "    print('yes')\n",
    "elif x > y :\n",
    "    print('no')\n"
   ]
  },
  {
   "cell_type": "markdown",
   "metadata": {},
   "source": [
    "setelah true elif di bawah sudah tdk dieksekusi"
   ]
  },
  {
   "cell_type": "code",
   "execution_count": 5,
   "metadata": {},
   "outputs": [
    {
     "name": "stdout",
     "output_type": "stream",
     "text": [
      "yes\n"
     ]
    }
   ],
   "source": [
    "x = 1\n",
    "y = 5\n",
    "\n",
    "if x < y :\n",
    "    print('yes')\n",
    "if x > y :\n",
    "    print('no')"
   ]
  },
  {
   "cell_type": "markdown",
   "metadata": {},
   "source": [
    "setelah true, if di bawah tetap di eksekusi"
   ]
  },
  {
   "cell_type": "markdown",
   "metadata": {},
   "source": [
    "## Syntax IF"
   ]
  },
  {
   "cell_type": "markdown",
   "metadata": {},
   "source": [
    "Bentuk 1:\n",
    "```\n",
    "if <condition>:\n",
    "    <statement>\n",
    "    <statement>\n",
    "    <statement>\n",
    "```\n",
    "\n",
    "Bentuk 2:\n",
    "```\n",
    "if <condition>:\n",
    "    <statement>\n",
    "elif <condition>:\n",
    "    <statement>\n",
    "```\n",
    "\n",
    "Bentuk 3:\n",
    "```\n",
    "if <condition>:\n",
    "    <statement>\n",
    "elif <condition>:\n",
    "    <statement>\n",
    "else:\n",
    "    <statement>\n",
    "```"
   ]
  },
  {
   "cell_type": "markdown",
   "metadata": {},
   "source": [
    "**NOMOR 1**\n",
    "\n",
    "Buatlah sebuah kondisi untuk mengecek apakah variabel `a` **lebih kecil** dari variabel `b` berdasarkan nilai dibawah ini :\n",
    "* `a` = 100\n",
    "* `b` = 200\n",
    "\n",
    "Jika `True` maka tulis/cetak `a lebih kecil dari b`"
   ]
  },
  {
   "cell_type": "code",
   "execution_count": 10,
   "metadata": {},
   "outputs": [
    {
     "name": "stdout",
     "output_type": "stream",
     "text": [
      "a lebih besar dari b\n"
     ]
    }
   ],
   "source": [
    "a = 1000\n",
    "b = 200\n",
    "\n",
    "if a < b: # --> selema ini yes/true semua statement akan di eksekusi\n",
    "    print('a lebih kecil dari b')\n",
    "    print('betul')\n",
    "\n",
    "else :\n",
    "    print('a lebih besar dari b')"
   ]
  },
  {
   "cell_type": "markdown",
   "metadata": {},
   "source": [
    "**NOMOR 2**\n",
    "\n",
    "Buatlah sebuah kondisi untuk mengecek apakah variabel `a` **lebih besar** dari variabel `b` berdasarkan nilai dibawah ini :\n",
    "* `a` = 100\n",
    "* `b` = 200\n",
    "\n",
    "Jika `True` maka tulis/cetak `a lebih besar dari b`"
   ]
  },
  {
   "cell_type": "code",
   "execution_count": 13,
   "metadata": {},
   "outputs": [
    {
     "name": "stdout",
     "output_type": "stream",
     "text": [
      "a lebih kecil dari b\n"
     ]
    }
   ],
   "source": [
    "a = 100\n",
    "b = 200\n",
    "\n",
    "if a > b: # --> selema ini yes/true semua statement akan di eksekusi\n",
    "    print('a lebih besar dari b')\n",
    "\n",
    "elif a < b:\n",
    "    print('a lebih kecil dari b')\n",
    "# else :\n",
    "#     print('a lebih kecil dari b')"
   ]
  },
  {
   "cell_type": "markdown",
   "metadata": {},
   "source": [
    "**NOMOR 3**\n",
    "\n",
    "Buatlah sebuah kondisi untuk mengecek apakah variabel `a` **tidak sama dengan**  variabel `b` berdasarkan nilai dibawah ini :\n",
    "* `a` = `januari`\n",
    "* `b` = `februari`\n",
    "\n",
    "Jika `True` maka tulis/cetak `a tidak sama dengan b`\n",
    "\n",
    "Jika `False` maka tulis/cetak `a sama dengan b`"
   ]
  },
  {
   "cell_type": "code",
   "execution_count": 14,
   "metadata": {},
   "outputs": [
    {
     "name": "stdout",
     "output_type": "stream",
     "text": [
      "a tidak sama dengan b\n"
     ]
    }
   ],
   "source": [
    "a = 'januari'\n",
    "b = 'februari'\n",
    "\n",
    "if a != b:\n",
    "    print('a tidak sama dengan b')\n",
    "\n",
    "else:\n",
    "    print('a sama dengan b')"
   ]
  },
  {
   "cell_type": "markdown",
   "metadata": {},
   "source": [
    "**NOMOR 4**\n",
    "\n",
    "Buatlah sebuah kondisi untuk mengecek apakah variabel `a` **sama dengan**  variabel `b` berdasarkan nilai dibawah ini :\n",
    "* `a` = 1000\n",
    "* `b` = 1000.0\n",
    "\n",
    "Jika `True` maka jangan menampilkan apapun\n",
    "\n",
    "Jika `False` maka tulis/cetak `a tidak sama dengan b`"
   ]
  },
  {
   "cell_type": "code",
   "execution_count": 23,
   "metadata": {},
   "outputs": [
    {
     "name": "stdout",
     "output_type": "stream",
     "text": [
      "a tidak sama dengan b\n"
     ]
    }
   ],
   "source": [
    "a = 1000 #integer\n",
    "b = 1000.1  #float\n",
    "\n",
    "if a == b:\n",
    "    pass # untuk tidak menampilkan apapun\n",
    "else:\n",
    "    print('a tidak sama dengan b')"
   ]
  },
  {
   "cell_type": "code",
   "execution_count": 22,
   "metadata": {},
   "outputs": [
    {
     "name": "stdout",
     "output_type": "stream",
     "text": [
      "<class 'int'>\n",
      "<class 'float'>\n",
      "1000\n"
     ]
    },
    {
     "data": {
      "text/plain": [
       "1000.0"
      ]
     },
     "execution_count": 22,
     "metadata": {},
     "output_type": "execute_result"
    }
   ],
   "source": [
    "print(type(a))\n",
    "print(type(b))\n",
    "print(a)\n",
    "b"
   ]
  },
  {
   "cell_type": "markdown",
   "metadata": {},
   "source": [
    "**NOMOR 5**\n",
    "\n",
    "Buatlah sebuah kondisi untuk mengecek apakah variabel `a` **berbeda**  variabel `b` berdasarkan nilai dibawah ini :\n",
    "* `angka_ganjil` = `[1, 3, 5, 7]`\n",
    "* `angka_genap`  = `[2, 4, 6, 8]`\n",
    "\n",
    "Jika `True` maka tulis/cetak `angka_ganjil berbeda dengan angka_genap`\n",
    "\n",
    "Jika `False` maka tulis/cetak `angka_ganjil sama dengan angka_genap`"
   ]
  },
  {
   "cell_type": "code",
   "execution_count": 24,
   "metadata": {},
   "outputs": [
    {
     "name": "stdout",
     "output_type": "stream",
     "text": [
      "angka_ganjil berbeda dengan angka_genap\n"
     ]
    }
   ],
   "source": [
    "angka_ganjil = [1,3,5,7,9]\n",
    "angka_genap = [2,4,6,8,10]\n",
    "\n",
    "if angka_ganjil != angka_genap:\n",
    "    print('angka_ganjil berbeda dengan angka_genap')\n",
    "\n",
    "else:\n",
    "    print('angka_ganjil sama dengan angka_genap')"
   ]
  },
  {
   "cell_type": "markdown",
   "metadata": {},
   "source": [
    "**NOMOR 6**\n",
    "\n",
    "Buatlah sebuah kondisi untuk mengecek apakah variabel-variabel dibawah ini mempunyai nilai atau tidak\n",
    "\n",
    "* `nama` = `budi`\n",
    "* `usia` = 20\n",
    "* `jenis_kelamin_pria` = True\n",
    "* `alamat` = `None`\n",
    "* `jumlah_motor` = 0\n",
    "* `punya_rumah` = `False`\n",
    "\n",
    "Jika True maka tulis/cetak `ada`\n",
    "\n",
    "Jika False maka tulis/cetak `tidak ada`"
   ]
  },
  {
   "cell_type": "code",
   "execution_count": 34,
   "metadata": {},
   "outputs": [
    {
     "name": "stdout",
     "output_type": "stream",
     "text": [
      "tidak ada\n"
     ]
    }
   ],
   "source": [
    "nama = 'Budi'   # ada value\n",
    "usia = 20       # ada value\n",
    "gender = True   # ada value\n",
    "alamat = None   # tdk ada value\n",
    "motor = 0       # tdk ada value\n",
    "rumah = False   # tdk ada value\n",
    "\n",
    "# if nama:\n",
    "#     print('ada')\n",
    "# else:\n",
    "#     print('tidak ada')\n",
    "\n",
    "# if usia:\n",
    "#     print('ada')\n",
    "# else:\n",
    "#     print('tidak ada')\n",
    "\n",
    "# if gender:\n",
    "#     print('ada')\n",
    "# else:\n",
    "#     print('tidak ada')\n",
    "\n",
    "# if alamat:\n",
    "#     print('ada')\n",
    "# else:\n",
    "#     print('tidak ada')\n",
    "\n",
    "# if motor:\n",
    "#     print('ada')\n",
    "# else:\n",
    "#     print('tidak ada')\n",
    "\n",
    "if rumah:\n",
    "    print('ada')\n",
    "else:\n",
    "    print('tidak ada')"
   ]
  },
  {
   "cell_type": "markdown",
   "metadata": {},
   "source": [
    "**NOMOR 7**\n",
    "\n",
    "Buatlah sebuah kondisi untuk mengecek apakah variabel-variabel dibawah ini termasuk salah satu nilai dari variabel lain atau tidak\n",
    "\n",
    "* *`pendidikan` = `s1`* terhadap *`daftar_pendidikan` = ['s1', 's2', 's3']*\n",
    "* *`nama` = `budi`* terhadap *`nama_lengkap` = `budi kurniawan`*\n",
    "\n",
    "Jika True maka tulis/cetak `merupakan bagian`\n",
    "\n",
    "Jika False maka tulis/cetak `bukan merupakan bagian`"
   ]
  },
  {
   "cell_type": "code",
   "execution_count": 47,
   "metadata": {},
   "outputs": [
    {
     "name": "stdout",
     "output_type": "stream",
     "text": [
      "merupakan bagian\n",
      "merupakan bagian\n"
     ]
    }
   ],
   "source": [
    "pendidikan = '1'\n",
    "daftar_pendidikan = ['s1', 's2', 's3','1']\n",
    "\n",
    "nama = 'udi'\n",
    "nama_lengkap = 'Budi Kurniawan'\n",
    "\n",
    "if pendidikan in daftar_pendidikan:\n",
    "    print('merupakan bagian')\n",
    "else:\n",
    "    print('bukan merupakan bagian')\n",
    "\n",
    "\n",
    "if nama in nama_lengkap:\n",
    "    print('merupakan bagian')\n",
    "else:\n",
    "    print('bukan merupakan bagian')"
   ]
  },
  {
   "cell_type": "markdown",
   "metadata": {},
   "source": [
    "**NOMOR 8 (IF ELIF)**\n",
    "\n",
    "Buatlah sebuah kondisi untuk mengecek hubungan dua variabel dibawah ini :\n",
    "\n",
    "* `a` = 100\n",
    "* `b` = 100\n",
    "\n",
    "Jika `a < b` maka tulis/cetak `a lebih kecil dari b`\n",
    "\n",
    "Jika `a > b` maka tulis/cetak `a lebih besar dari b`\n",
    "\n",
    "Selain kondisi diatas, maka tulis/cetak `a sama dengan b`"
   ]
  },
  {
   "cell_type": "code",
   "execution_count": 51,
   "metadata": {},
   "outputs": [
    {
     "name": "stdout",
     "output_type": "stream",
     "text": [
      "a sama dengan b\n"
     ]
    }
   ],
   "source": [
    "a = 100\n",
    "b = 100\n",
    "\n",
    "if a < b:\n",
    "    print('a lebih kecil dari b')\n",
    "elif a > b:\n",
    "    print('a lebih besar dari b')\n",
    "else:\n",
    "    print('a sama dengan b')"
   ]
  },
  {
   "cell_type": "markdown",
   "metadata": {},
   "source": [
    "**NOMOR 9 (NESTED IF)**\n",
    "\n",
    "Buatlah sebuah kondisi untuk memilih menu makanan dengan syarat :\n",
    "\n",
    "* Pilih `nasi goreng` jika uang yang dimiliki lebih dari sama dengan Rp 15.000,-\n",
    "* Pilih `ketoprak` jika uang yang dimiliki lebih dari sama dengan Rp 10.000 dan kurang dari Rp 15.000,-\n",
    "* Pilih `batagor` jika uang yang dimiliki lebih dari sama dengan Rp 5.000 dan kurang Rp 10.000,-\n",
    "* Pilih `es teh manis` jika uang yang dimiliki kurang dari Rp 5000"
   ]
  },
  {
   "cell_type": "code",
   "execution_count": 62,
   "metadata": {},
   "outputs": [
    {
     "name": "stdout",
     "output_type": "stream",
     "text": [
      "es teh manis\n"
     ]
    }
   ],
   "source": [
    "uang = 500\n",
    "\n",
    "if uang >= 15000:\n",
    "    print('beli nasgor')\n",
    "elif uang >= 10000:\n",
    "    print('beli ketoprak')\n",
    "elif uang >= 5000:\n",
    "    print('beli batagor')\n",
    "else:\n",
    "    print('es teh manis')\n"
   ]
  },
  {
   "cell_type": "markdown",
   "metadata": {},
   "source": [
    "## Looping"
   ]
  },
  {
   "cell_type": "markdown",
   "metadata": {},
   "source": [
    "### While loop\n",
    "\n",
    "syntax/bentuknya:\n",
    "```\n",
    "while <condition>:\n",
    "    <statement>\n",
    "```"
   ]
  },
  {
   "cell_type": "code",
   "execution_count": 67,
   "metadata": {},
   "outputs": [
    {
     "name": "stdout",
     "output_type": "stream",
     "text": [
      "4\n",
      "3\n",
      "2\n",
      "1\n",
      "0\n"
     ]
    }
   ],
   "source": [
    "n = 5\n",
    "while n > 0:\n",
    "     n -= 1 # artinya: nilai n akan dikurangi sebesar sama dengan 1\n",
    "     print(n)  "
   ]
  },
  {
   "cell_type": "markdown",
   "metadata": {},
   "source": [
    "### For loop\n",
    "syntax/bentuknya:\n",
    "```\n",
    "for <variable> in <iterable/list>:\n",
    "    <statements>\n",
    "```"
   ]
  },
  {
   "cell_type": "code",
   "execution_count": 78,
   "metadata": {},
   "outputs": [
    {
     "name": "stdout",
     "output_type": "stream",
     "text": [
      "4\n",
      "3\n",
      "2\n",
      "1\n",
      "0\n"
     ]
    }
   ],
   "source": [
    "for i in range(4,-1,-1): # mulai dr 4, end nya di -1, stepnya berkurang 1\n",
    "   print(i)"
   ]
  },
  {
   "cell_type": "markdown",
   "metadata": {},
   "source": [
    "## Latihan soal"
   ]
  },
  {
   "cell_type": "markdown",
   "metadata": {},
   "source": [
    "**NOMOR 10**\n",
    "\n",
    "Buatlah sebuah perulangan untuk mencetak/menulis kata `hello` sebanyak `5` kali."
   ]
  },
  {
   "cell_type": "code",
   "execution_count": 83,
   "metadata": {},
   "outputs": [
    {
     "name": "stdout",
     "output_type": "stream",
     "text": [
      "hello\n",
      "hello\n",
      "hello\n",
      "hello\n",
      "hello\n"
     ]
    }
   ],
   "source": [
    "# cara manual 1\n",
    "print('hello')\n",
    "print('hello')\n",
    "print('hello')\n",
    "print('hello')\n",
    "print('hello')"
   ]
  },
  {
   "cell_type": "code",
   "execution_count": 84,
   "metadata": {},
   "outputs": [
    {
     "name": "stdout",
     "output_type": "stream",
     "text": [
      "hello\n",
      "hello\n",
      "hello\n",
      "hello\n",
      "hello\n"
     ]
    }
   ],
   "source": [
    "# cara manual 2\n",
    "a = 'hello'\n",
    "print(a)\n",
    "print(a)\n",
    "print(a)\n",
    "print(a)\n",
    "print(a)"
   ]
  },
  {
   "cell_type": "code",
   "execution_count": 85,
   "metadata": {},
   "outputs": [
    {
     "name": "stdout",
     "output_type": "stream",
     "text": [
      "hello\n",
      "hello\n",
      "hello\n",
      "hello\n",
      "hello\n"
     ]
    }
   ],
   "source": [
    "# using while loop\n",
    "i = 5\n",
    "while i > 0:\n",
    "    i -= 1\n",
    "    print('hello') "
   ]
  },
  {
   "cell_type": "code",
   "execution_count": 88,
   "metadata": {},
   "outputs": [
    {
     "name": "stdout",
     "output_type": "stream",
     "text": [
      "hello\n",
      "hello\n",
      "hello\n",
      "hello\n",
      "hello\n"
     ]
    }
   ],
   "source": [
    "# using for loop\n",
    "for i in range(5): #start dr 0, end di 4\n",
    "    print('hello')\n",
    "    # print(i,'hello') #untuk melihat i/variable"
   ]
  },
  {
   "cell_type": "markdown",
   "metadata": {},
   "source": [
    "**NOMOR 11**\n",
    "\n",
    "Buatlah sebuah perulangan untuk menampilkan angka dari `0` - `5`\n",
    "\n",
    "*Hasil : 0 1 2 3 4 5*"
   ]
  },
  {
   "cell_type": "code",
   "execution_count": 95,
   "metadata": {},
   "outputs": [
    {
     "name": "stdout",
     "output_type": "stream",
     "text": [
      "0 1 2 3 4 5 "
     ]
    }
   ],
   "source": [
    "# while loop\n",
    "\n",
    "i = 0\n",
    "while i < 6:\n",
    "    print(i, end=' ')\n",
    "    i+=1"
   ]
  },
  {
   "cell_type": "code",
   "execution_count": 97,
   "metadata": {},
   "outputs": [
    {
     "name": "stdout",
     "output_type": "stream",
     "text": [
      "0 1 2 3 4 5 "
     ]
    }
   ],
   "source": [
    "# for loop\n",
    "\n",
    "for i in range(6): #start dr 0 (by default), stop di 5, step 1(by default)\n",
    "    print(i, end=' ')"
   ]
  },
  {
   "cell_type": "markdown",
   "metadata": {},
   "source": [
    "**NOMOR 12**\n",
    "\n",
    "Buatlah sebuah perulangan untuk menampilkan angka dari `3` - `5`\n",
    "\n",
    "*Hasil : 3 4 5*"
   ]
  },
  {
   "cell_type": "code",
   "execution_count": 98,
   "metadata": {},
   "outputs": [
    {
     "name": "stdout",
     "output_type": "stream",
     "text": [
      "3 4 5 "
     ]
    }
   ],
   "source": [
    "# while loop\n",
    "i = 3\n",
    "while i < 6:\n",
    "    print(i, end=' ')\n",
    "    i+=1"
   ]
  },
  {
   "cell_type": "code",
   "execution_count": 99,
   "metadata": {},
   "outputs": [
    {
     "name": "stdout",
     "output_type": "stream",
     "text": [
      "3 4 5 "
     ]
    }
   ],
   "source": [
    "# for loop\n",
    "\n",
    "for i in range(3,6): #start dr 3, stop di 5, step 1(by default)\n",
    "    print(i, end=' ')"
   ]
  },
  {
   "cell_type": "markdown",
   "metadata": {},
   "source": [
    "**NOMOR 13**\n",
    "\n",
    "Buatlah sebuah perulangan untuk menampilkan angka dari `1` - `10` dengan jarak angka adalah `3`\n",
    "\n",
    "*Hasil : 1 4 7 10*"
   ]
  },
  {
   "cell_type": "code",
   "execution_count": 100,
   "metadata": {},
   "outputs": [
    {
     "name": "stdout",
     "output_type": "stream",
     "text": [
      "1 4 7 10 "
     ]
    }
   ],
   "source": [
    "# while loop\n",
    "i = 1\n",
    "while i < 11:\n",
    "    print(i, end=' ')\n",
    "    i+=3"
   ]
  },
  {
   "cell_type": "code",
   "execution_count": 102,
   "metadata": {},
   "outputs": [
    {
     "name": "stdout",
     "output_type": "stream",
     "text": [
      "1 4 7 10 "
     ]
    }
   ],
   "source": [
    "# for loop\n",
    "\n",
    "for i in range(1,11,3): #start dr 1, stop di 10, step 3\n",
    "    print(i, end=' ')"
   ]
  },
  {
   "cell_type": "markdown",
   "metadata": {},
   "source": [
    "**NOMOR 14**\n",
    "\n",
    "Buatlah sebuah perulangan untuk menampilkan angka dari `1` - `10` dan berhenti dengan kondisi jika angka tersebut adalah `8`\n",
    "\n",
    "*Hasil : 1 2 3 4 5 6 7 8*"
   ]
  },
  {
   "cell_type": "code",
   "execution_count": 105,
   "metadata": {},
   "outputs": [
    {
     "name": "stdout",
     "output_type": "stream",
     "text": [
      "1 2 3 4 5 6 7 8 "
     ]
    }
   ],
   "source": [
    "# while loop cara 1\n",
    "i = 1\n",
    "while i < 9:\n",
    "    print(i, end=' ')\n",
    "    i+=1"
   ]
  },
  {
   "cell_type": "code",
   "execution_count": 107,
   "metadata": {},
   "outputs": [
    {
     "name": "stdout",
     "output_type": "stream",
     "text": [
      "1 2 3 4 5 6 7 8 "
     ]
    }
   ],
   "source": [
    "# while loop cara 2\n",
    "i = 0\n",
    "while i <= 7:\n",
    "    i+=1\n",
    "    print(i, end=' ')"
   ]
  },
  {
   "cell_type": "code",
   "execution_count": 108,
   "metadata": {},
   "outputs": [
    {
     "name": "stdout",
     "output_type": "stream",
     "text": [
      "1 2 3 4 5 6 7 8 "
     ]
    }
   ],
   "source": [
    "# for loop\n",
    "\n",
    "for i in range(1,9): #start dr 1, stop di 8, step 1(by default)\n",
    "    print(i, end=' ')"
   ]
  },
  {
   "cell_type": "markdown",
   "metadata": {},
   "source": [
    "**NOMOR 15**\n",
    "\n",
    "Buatlah sebuah perulangan untuk menampilkan angka genap dari `1` - `10` dan angka tersebut kurang dari sama dengan 6\n",
    "\n",
    "*Hasil : 2 4 6*"
   ]
  },
  {
   "cell_type": "code",
   "execution_count": 115,
   "metadata": {},
   "outputs": [
    {
     "name": "stdout",
     "output_type": "stream",
     "text": [
      "2 4 6 "
     ]
    }
   ],
   "source": [
    "# while loop \n",
    "i = 2\n",
    "while i < 8:\n",
    "    print(i, end=' ')\n",
    "    i+=2"
   ]
  },
  {
   "cell_type": "code",
   "execution_count": 113,
   "metadata": {},
   "outputs": [
    {
     "name": "stdout",
     "output_type": "stream",
     "text": [
      "2 4 6 "
     ]
    }
   ],
   "source": [
    "# for loop\n",
    "for i in range(2,8,2): #start dr 2, stop di 8-1=7, step 2\n",
    "    print(i, end=' ')"
   ]
  },
  {
   "cell_type": "markdown",
   "metadata": {},
   "source": [
    "**NOMOR 16**\n",
    "\n",
    "Buatlah sebuah perulangan untuk menampilkan isi dari variabel list dibawah ini :\n",
    "\n",
    "* `daftar_nama` = `['anwar', 'budi', 'cecep', 'deny']`"
   ]
  },
  {
   "cell_type": "code",
   "execution_count": 133,
   "metadata": {},
   "outputs": [
    {
     "name": "stdout",
     "output_type": "stream",
     "text": [
      "anwar\n",
      "budi\n",
      "cecep\n",
      "deny\n"
     ]
    }
   ],
   "source": [
    "daftar_nama = ['anwar', 'budi', 'cecep', 'deny']\n",
    "\n",
    "# for loop\n",
    "for i in daftar_nama:\n",
    "    print(i)"
   ]
  },
  {
   "cell_type": "code",
   "execution_count": 138,
   "metadata": {},
   "outputs": [
    {
     "name": "stdout",
     "output_type": "stream",
     "text": [
      "anwar\n",
      "budi\n",
      "cecep\n",
      "deny\n"
     ]
    }
   ],
   "source": [
    "# while loop\n",
    "i = 4\n",
    "a = 0\n",
    "while i > 0 :\n",
    "    print(daftar_nama[a])\n",
    "    i-=1\n",
    "    a+=1"
   ]
  },
  {
   "cell_type": "code",
   "execution_count": 147,
   "metadata": {},
   "outputs": [
    {
     "data": {
      "text/plain": [
       "'cecep'"
      ]
     },
     "execution_count": 147,
     "metadata": {},
     "output_type": "execute_result"
    }
   ],
   "source": [
    "daftar_nama[2]"
   ]
  },
  {
   "cell_type": "markdown",
   "metadata": {},
   "source": [
    "### Coba continue vs break"
   ]
  },
  {
   "cell_type": "code",
   "execution_count": 155,
   "metadata": {},
   "outputs": [
    {
     "name": "stdout",
     "output_type": "stream",
     "text": [
      "3\n",
      "loop end\n"
     ]
    }
   ],
   "source": [
    "n = 4\n",
    "while n > 0:\n",
    "    n -= 1\n",
    "    if n ==2:\n",
    "        break\n",
    "    print(n)\n",
    "print('loop end')"
   ]
  },
  {
   "cell_type": "code",
   "execution_count": 158,
   "metadata": {},
   "outputs": [
    {
     "name": "stdout",
     "output_type": "stream",
     "text": [
      "foo\n",
      "loop end\n"
     ]
    }
   ],
   "source": [
    "for i in ['foo','bar']:\n",
    "    if i =='bar':\n",
    "        break\n",
    "    print(i)\n",
    "print('loop end')"
   ]
  },
  {
   "cell_type": "markdown",
   "metadata": {},
   "source": [
    "# sneak peak function sesi 3"
   ]
  },
  {
   "cell_type": "markdown",
   "metadata": {},
   "source": [
    "hitung_luas = p x l\n",
    "\n",
    "hitung_luas = 10 x 2\n",
    "\n",
    "hitung_luas = 20"
   ]
  },
  {
   "cell_type": "code",
   "execution_count": 25,
   "metadata": {},
   "outputs": [],
   "source": [
    "def HitungLuas(p,*l):\n",
    "    # luas_local = 10 * 2\n",
    "    return p*l\n",
    "\n",
    "# luas_local = 10 * 2"
   ]
  },
  {
   "cell_type": "code",
   "execution_count": 2,
   "metadata": {},
   "outputs": [],
   "source": [
    "luas = 10 * 2"
   ]
  },
  {
   "cell_type": "code",
   "execution_count": 9,
   "metadata": {},
   "outputs": [
    {
     "data": {
      "text/plain": [
       "20"
      ]
     },
     "execution_count": 9,
     "metadata": {},
     "output_type": "execute_result"
    }
   ],
   "source": [
    "luas_local"
   ]
  },
  {
   "cell_type": "code",
   "execution_count": 26,
   "metadata": {},
   "outputs": [
    {
     "ename": "TypeError",
     "evalue": "hitung_luas() takes 2 positional arguments but 3 were given",
     "output_type": "error",
     "traceback": [
      "\u001b[1;31m---------------------------------------------------------------------------\u001b[0m",
      "\u001b[1;31mTypeError\u001b[0m                                 Traceback (most recent call last)",
      "Cell \u001b[1;32mIn[26], line 1\u001b[0m\n\u001b[1;32m----> 1\u001b[0m \u001b[43mhitung_luas\u001b[49m\u001b[43m(\u001b[49m\u001b[38;5;241;43m10\u001b[39;49m\u001b[43m,\u001b[49m\u001b[38;5;241;43m2\u001b[39;49m\u001b[43m,\u001b[49m\u001b[38;5;241;43m3\u001b[39;49m\u001b[43m)\u001b[49m\n",
      "\u001b[1;31mTypeError\u001b[0m: hitung_luas() takes 2 positional arguments but 3 were given"
     ]
    }
   ],
   "source": [
    "hitung_luas(10,2,3)"
   ]
  },
  {
   "cell_type": "code",
   "execution_count": 23,
   "metadata": {},
   "outputs": [],
   "source": [
    "# Create function\n",
    "def func(a):\n",
    "    return a"
   ]
  },
  {
   "cell_type": "code",
   "execution_count": 24,
   "metadata": {},
   "outputs": [
    {
     "data": {
      "text/plain": [
       "2"
      ]
     },
     "execution_count": 24,
     "metadata": {},
     "output_type": "execute_result"
    }
   ],
   "source": [
    "# Calling function\n",
    "func(2)"
   ]
  },
  {
   "cell_type": "code",
   "execution_count": 31,
   "metadata": {},
   "outputs": [
    {
     "name": "stdout",
     "output_type": "stream",
     "text": [
      "helo Vincent salam kenal ya\n",
      "helo Vincent salam kenal ya\n"
     ]
    }
   ],
   "source": [
    "nama = 'Vincent'\n",
    "print('helo',nama,'salam kenal ya') # cara 1\n",
    "print(f'helo {nama} salam kenal ya') # cara 2"
   ]
  }
 ],
 "metadata": {
  "kernelspec": {
   "display_name": "base",
   "language": "python",
   "name": "python3"
  },
  "language_info": {
   "codemirror_mode": {
    "name": "ipython",
    "version": 3
   },
   "file_extension": ".py",
   "mimetype": "text/x-python",
   "name": "python",
   "nbconvert_exporter": "python",
   "pygments_lexer": "ipython3",
   "version": "3.10.9"
  }
 },
 "nbformat": 4,
 "nbformat_minor": 2
}
