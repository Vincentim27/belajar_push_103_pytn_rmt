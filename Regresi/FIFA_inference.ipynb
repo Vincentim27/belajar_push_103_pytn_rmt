{
 "cells": [
  {
   "cell_type": "markdown",
   "metadata": {},
   "source": [
    "# Inference FIFA (nama file bebas)"
   ]
  },
  {
   "cell_type": "code",
   "execution_count": 1,
   "metadata": {},
   "outputs": [],
   "source": [
    "# Import Libraries\n",
    "\n",
    "import pandas as pd\n",
    "import numpy as np\n",
    "import pickle\n",
    "import json"
   ]
  },
  {
   "cell_type": "code",
   "execution_count": 2,
   "metadata": {},
   "outputs": [],
   "source": [
    "# Load model\n",
    "# load the model!\n",
    "with open('model_lin.pkl', 'rb') as file_1: # rb = read binary\n",
    "    model_lin=pickle.load(file_1)\n",
    "\n",
    "# load the scaler!\n",
    "with open('std_scaler.pkl', 'rb') as file_2:\n",
    "    std_scaler=pickle.load( file_2)\n",
    "\n",
    "with open('rbs_scaler.pkl', 'rb') as file_3:\n",
    "    rbs_scaler=pickle.load( file_3)\n",
    "\n",
    "# load the encoder\n",
    "with open('encoder.pkl', 'rb') as file_4:\n",
    "    encoder=pickle.load( file_4)\n",
    "\n",
    "# load the num col\n",
    "with open('num_col_std.txt', 'r') as file_5:\n",
    "    num_col_std=json.load( file_5)\n",
    "\n",
    "with open('num_col_rbs.txt', 'r') as file_6:\n",
    "    num_col_rbs=json.load( file_6)\n",
    "\n",
    "# load the cat col\n",
    "with open('cat_col.txt', 'r') as file_7:\n",
    "   cat_col= json.load( file_7)"
   ]
  },
  {
   "cell_type": "code",
   "execution_count": 3,
   "metadata": {},
   "outputs": [],
   "source": [
    "# Create data Inference\n",
    "df_inf = {\n",
    "    'Name': 'Vincent', \n",
    "    'Age': 18, \n",
    "    'Height': 180, \n",
    "    'Weight': 70, \n",
    "    'ValueEUR': 100000, \n",
    "    'AttackingWorkRate':'Medium',\n",
    "    'DefensiveWorkRate':'High', \n",
    "    'PaceTotal':88, \n",
    "    'ShootingTotal':88, \n",
    "    'PassingTotal':88,\n",
    "    'DribblingTotal':88, \n",
    "    'DefendingTotal':88, \n",
    "    'PhysicalityTotal':88\n",
    "}\n",
    "\n",
    "df_inf = pd.DataFrame([df_inf])"
   ]
  },
  {
   "cell_type": "code",
   "execution_count": 4,
   "metadata": {},
   "outputs": [
    {
     "data": {
      "text/html": [
       "<div>\n",
       "<style scoped>\n",
       "    .dataframe tbody tr th:only-of-type {\n",
       "        vertical-align: middle;\n",
       "    }\n",
       "\n",
       "    .dataframe tbody tr th {\n",
       "        vertical-align: top;\n",
       "    }\n",
       "\n",
       "    .dataframe thead th {\n",
       "        text-align: right;\n",
       "    }\n",
       "</style>\n",
       "<table border=\"1\" class=\"dataframe\">\n",
       "  <thead>\n",
       "    <tr style=\"text-align: right;\">\n",
       "      <th></th>\n",
       "      <th>Name</th>\n",
       "      <th>Age</th>\n",
       "      <th>Height</th>\n",
       "      <th>Weight</th>\n",
       "      <th>ValueEUR</th>\n",
       "      <th>AttackingWorkRate</th>\n",
       "      <th>DefensiveWorkRate</th>\n",
       "      <th>PaceTotal</th>\n",
       "      <th>ShootingTotal</th>\n",
       "      <th>PassingTotal</th>\n",
       "      <th>DribblingTotal</th>\n",
       "      <th>DefendingTotal</th>\n",
       "      <th>PhysicalityTotal</th>\n",
       "    </tr>\n",
       "  </thead>\n",
       "  <tbody>\n",
       "    <tr>\n",
       "      <th>0</th>\n",
       "      <td>Vincent</td>\n",
       "      <td>18</td>\n",
       "      <td>180</td>\n",
       "      <td>70</td>\n",
       "      <td>100000</td>\n",
       "      <td>Medium</td>\n",
       "      <td>High</td>\n",
       "      <td>88</td>\n",
       "      <td>88</td>\n",
       "      <td>88</td>\n",
       "      <td>88</td>\n",
       "      <td>88</td>\n",
       "      <td>88</td>\n",
       "    </tr>\n",
       "  </tbody>\n",
       "</table>\n",
       "</div>"
      ],
      "text/plain": [
       "      Name  Age  Height  Weight  ValueEUR AttackingWorkRate DefensiveWorkRate  \\\n",
       "0  Vincent   18     180      70    100000            Medium              High   \n",
       "\n",
       "   PaceTotal  ShootingTotal  PassingTotal  DribblingTotal  DefendingTotal  \\\n",
       "0         88             88            88              88              88   \n",
       "\n",
       "   PhysicalityTotal  \n",
       "0                88  "
      ]
     },
     "execution_count": 4,
     "metadata": {},
     "output_type": "execute_result"
    }
   ],
   "source": [
    "# Show data inference\n",
    "df_inf"
   ]
  },
  {
   "cell_type": "code",
   "execution_count": 5,
   "metadata": {},
   "outputs": [],
   "source": [
    "# Split num col cat col\n",
    "df_inf_num_rbs = df_inf[num_col_rbs] \n",
    "df_inf_num_std = df_inf[num_col_std]\n",
    "df_inf_cat = df_inf[cat_col]"
   ]
  },
  {
   "cell_type": "code",
   "execution_count": 10,
   "metadata": {},
   "outputs": [
    {
     "data": {
      "text/html": [
       "<div>\n",
       "<style scoped>\n",
       "    .dataframe tbody tr th:only-of-type {\n",
       "        vertical-align: middle;\n",
       "    }\n",
       "\n",
       "    .dataframe tbody tr th {\n",
       "        vertical-align: top;\n",
       "    }\n",
       "\n",
       "    .dataframe thead th {\n",
       "        text-align: right;\n",
       "    }\n",
       "</style>\n",
       "<table border=\"1\" class=\"dataframe\">\n",
       "  <thead>\n",
       "    <tr style=\"text-align: right;\">\n",
       "      <th></th>\n",
       "      <th>Age</th>\n",
       "      <th>ShootingTotal</th>\n",
       "      <th>PassingTotal</th>\n",
       "      <th>DribblingTotal</th>\n",
       "      <th>DefendingTotal</th>\n",
       "      <th>PhysicalityTotal</th>\n",
       "    </tr>\n",
       "  </thead>\n",
       "  <tbody>\n",
       "    <tr>\n",
       "      <th>0</th>\n",
       "      <td>18</td>\n",
       "      <td>88</td>\n",
       "      <td>88</td>\n",
       "      <td>88</td>\n",
       "      <td>88</td>\n",
       "      <td>88</td>\n",
       "    </tr>\n",
       "  </tbody>\n",
       "</table>\n",
       "</div>"
      ],
      "text/plain": [
       "   Age  ShootingTotal  PassingTotal  DribblingTotal  DefendingTotal  \\\n",
       "0   18             88            88              88              88   \n",
       "\n",
       "   PhysicalityTotal  \n",
       "0                88  "
      ]
     },
     "execution_count": 10,
     "metadata": {},
     "output_type": "execute_result"
    }
   ],
   "source": [
    "df_inf_num_std"
   ]
  },
  {
   "cell_type": "code",
   "execution_count": 11,
   "metadata": {},
   "outputs": [
    {
     "data": {
      "text/html": [
       "<div>\n",
       "<style scoped>\n",
       "    .dataframe tbody tr th:only-of-type {\n",
       "        vertical-align: middle;\n",
       "    }\n",
       "\n",
       "    .dataframe tbody tr th {\n",
       "        vertical-align: top;\n",
       "    }\n",
       "\n",
       "    .dataframe thead th {\n",
       "        text-align: right;\n",
       "    }\n",
       "</style>\n",
       "<table border=\"1\" class=\"dataframe\">\n",
       "  <thead>\n",
       "    <tr style=\"text-align: right;\">\n",
       "      <th></th>\n",
       "      <th>ValueEUR</th>\n",
       "    </tr>\n",
       "  </thead>\n",
       "  <tbody>\n",
       "    <tr>\n",
       "      <th>0</th>\n",
       "      <td>100000</td>\n",
       "    </tr>\n",
       "  </tbody>\n",
       "</table>\n",
       "</div>"
      ],
      "text/plain": [
       "   ValueEUR\n",
       "0    100000"
      ]
     },
     "execution_count": 11,
     "metadata": {},
     "output_type": "execute_result"
    }
   ],
   "source": [
    "df_inf_num_rbs"
   ]
  },
  {
   "cell_type": "code",
   "execution_count": 9,
   "metadata": {},
   "outputs": [
    {
     "data": {
      "text/html": [
       "<div>\n",
       "<style scoped>\n",
       "    .dataframe tbody tr th:only-of-type {\n",
       "        vertical-align: middle;\n",
       "    }\n",
       "\n",
       "    .dataframe tbody tr th {\n",
       "        vertical-align: top;\n",
       "    }\n",
       "\n",
       "    .dataframe thead th {\n",
       "        text-align: right;\n",
       "    }\n",
       "</style>\n",
       "<table border=\"1\" class=\"dataframe\">\n",
       "  <thead>\n",
       "    <tr style=\"text-align: right;\">\n",
       "      <th></th>\n",
       "      <th>AttackingWorkRate</th>\n",
       "      <th>DefensiveWorkRate</th>\n",
       "    </tr>\n",
       "  </thead>\n",
       "  <tbody>\n",
       "    <tr>\n",
       "      <th>0</th>\n",
       "      <td>Medium</td>\n",
       "      <td>High</td>\n",
       "    </tr>\n",
       "  </tbody>\n",
       "</table>\n",
       "</div>"
      ],
      "text/plain": [
       "  AttackingWorkRate DefensiveWorkRate\n",
       "0            Medium              High"
      ]
     },
     "execution_count": 9,
     "metadata": {},
     "output_type": "execute_result"
    }
   ],
   "source": [
    "df_inf_cat"
   ]
  },
  {
   "cell_type": "code",
   "execution_count": 12,
   "metadata": {},
   "outputs": [],
   "source": [
    "# Feature Scaling\n",
    "df_inf_std_scaled = std_scaler.transform(df_inf_num_std)\n",
    "df_inf_rbs_scaled = rbs_scaler.transform(df_inf_num_rbs)"
   ]
  },
  {
   "cell_type": "code",
   "execution_count": 13,
   "metadata": {},
   "outputs": [],
   "source": [
    "# Feature Encoding\n",
    "df_inf_cat_scaled = encoder.transform(df_inf_cat)"
   ]
  },
  {
   "cell_type": "code",
   "execution_count": 14,
   "metadata": {},
   "outputs": [],
   "source": [
    "# Concat\n",
    "df_inf_final = np.concatenate([df_inf_std_scaled,df_inf_rbs_scaled,df_inf_cat_scaled],axis=1)"
   ]
  },
  {
   "cell_type": "code",
   "execution_count": 16,
   "metadata": {},
   "outputs": [
    {
     "name": "stdout",
     "output_type": "stream",
     "text": [
      "Rating pemain : [82.4475121]\n"
     ]
    }
   ],
   "source": [
    "# Predict inference data\n",
    "predict = model_lin.predict(df_inf_final)\n",
    "print(f'Rating pemain : {predict}')"
   ]
  },
  {
   "cell_type": "markdown",
   "metadata": {},
   "source": [
    "masih bentuknya aneh.. bisa dibikin sperti berikut:"
   ]
  },
  {
   "cell_type": "code",
   "execution_count": 23,
   "metadata": {},
   "outputs": [
    {
     "name": "stdout",
     "output_type": "stream",
     "text": [
      "Rating Vincent: 82.45\n"
     ]
    }
   ],
   "source": [
    "# alternatif tampilan predict\n",
    "print(f'Rating {df_inf.Name[0]}: {round(predict[0],2)}')"
   ]
  }
 ],
 "metadata": {
  "kernelspec": {
   "display_name": "base",
   "language": "python",
   "name": "python3"
  },
  "language_info": {
   "codemirror_mode": {
    "name": "ipython",
    "version": 3
   },
   "file_extension": ".py",
   "mimetype": "text/x-python",
   "name": "python",
   "nbconvert_exporter": "python",
   "pygments_lexer": "ipython3",
   "version": "3.10.9"
  }
 },
 "nbformat": 4,
 "nbformat_minor": 2
}
